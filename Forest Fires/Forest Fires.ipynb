{
 "cells": [
  {
   "cell_type": "code",
   "execution_count": null,
   "id": "b32cd3c1-51d6-4fc3-a88d-5aa93ff20602",
   "metadata": {},
   "outputs": [],
   "source": []
  }
 ],
 "metadata": {
  "kernelspec": {
   "display_name": "",
   "name": ""
  },
  "language_info": {
   "name": ""
  }
 },
 "nbformat": 4,
 "nbformat_minor": 5
}
